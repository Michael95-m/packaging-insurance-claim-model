{
 "cells": [
  {
   "cell_type": "code",
   "execution_count": 1,
   "id": "98ca51e2",
   "metadata": {},
   "outputs": [],
   "source": [
    "import numpy as np\n",
    "import pandas as pd\n",
    "from tqdm import tqdm\n",
    "from matplotlib import pyplot as plt\n",
    "import joblib\n",
    "from sklearn.metrics import mean_squared_error, r2_score\n",
    "\n",
    "pd.pandas.set_option('display.max_columns', None)"
   ]
  },
  {
   "cell_type": "code",
   "execution_count": 2,
   "id": "416e18c0",
   "metadata": {},
   "outputs": [],
   "source": [
    "from sklearn.ensemble import RandomForestRegressor\n",
    "from scipy import stats"
   ]
  },
  {
   "cell_type": "code",
   "execution_count": 3,
   "id": "002000de",
   "metadata": {},
   "outputs": [],
   "source": [
    "data = pd.read_csv(\"../raw/test.csv\")"
   ]
  },
  {
   "cell_type": "code",
   "execution_count": 4,
   "id": "a4a63947",
   "metadata": {},
   "outputs": [
    {
     "data": {
      "text/html": [
       "<div>\n",
       "<style scoped>\n",
       "    .dataframe tbody tr th:only-of-type {\n",
       "        vertical-align: middle;\n",
       "    }\n",
       "\n",
       "    .dataframe tbody tr th {\n",
       "        vertical-align: top;\n",
       "    }\n",
       "\n",
       "    .dataframe thead th {\n",
       "        text-align: right;\n",
       "    }\n",
       "</style>\n",
       "<table border=\"1\" class=\"dataframe\">\n",
       "  <thead>\n",
       "    <tr style=\"text-align: right;\">\n",
       "      <th></th>\n",
       "      <th>index</th>\n",
       "      <th>PatientID</th>\n",
       "      <th>age</th>\n",
       "      <th>gender</th>\n",
       "      <th>bmi</th>\n",
       "      <th>bloodpressure</th>\n",
       "      <th>diabetic</th>\n",
       "      <th>children</th>\n",
       "      <th>smoker</th>\n",
       "      <th>region</th>\n",
       "      <th>claim</th>\n",
       "    </tr>\n",
       "  </thead>\n",
       "  <tbody>\n",
       "    <tr>\n",
       "      <th>0</th>\n",
       "      <td>574</td>\n",
       "      <td>575</td>\n",
       "      <td>53.0</td>\n",
       "      <td>female</td>\n",
       "      <td>27.7</td>\n",
       "      <td>88</td>\n",
       "      <td>Yes</td>\n",
       "      <td>0</td>\n",
       "      <td>No</td>\n",
       "      <td>northwest</td>\n",
       "      <td>8026.67</td>\n",
       "    </tr>\n",
       "    <tr>\n",
       "      <th>1</th>\n",
       "      <td>661</td>\n",
       "      <td>662</td>\n",
       "      <td>43.0</td>\n",
       "      <td>female</td>\n",
       "      <td>28.9</td>\n",
       "      <td>84</td>\n",
       "      <td>Yes</td>\n",
       "      <td>1</td>\n",
       "      <td>No</td>\n",
       "      <td>northwest</td>\n",
       "      <td>9249.50</td>\n",
       "    </tr>\n",
       "    <tr>\n",
       "      <th>2</th>\n",
       "      <td>458</td>\n",
       "      <td>459</td>\n",
       "      <td>34.0</td>\n",
       "      <td>female</td>\n",
       "      <td>40.6</td>\n",
       "      <td>98</td>\n",
       "      <td>No</td>\n",
       "      <td>1</td>\n",
       "      <td>No</td>\n",
       "      <td>northwest</td>\n",
       "      <td>6373.56</td>\n",
       "    </tr>\n",
       "    <tr>\n",
       "      <th>3</th>\n",
       "      <td>1023</td>\n",
       "      <td>1024</td>\n",
       "      <td>51.0</td>\n",
       "      <td>female</td>\n",
       "      <td>41.3</td>\n",
       "      <td>98</td>\n",
       "      <td>No</td>\n",
       "      <td>0</td>\n",
       "      <td>No</td>\n",
       "      <td>northeast</td>\n",
       "      <td>17878.90</td>\n",
       "    </tr>\n",
       "    <tr>\n",
       "      <th>4</th>\n",
       "      <td>958</td>\n",
       "      <td>959</td>\n",
       "      <td>28.0</td>\n",
       "      <td>female</td>\n",
       "      <td>25.1</td>\n",
       "      <td>103</td>\n",
       "      <td>No</td>\n",
       "      <td>0</td>\n",
       "      <td>No</td>\n",
       "      <td>northwest</td>\n",
       "      <td>14254.61</td>\n",
       "    </tr>\n",
       "  </tbody>\n",
       "</table>\n",
       "</div>"
      ],
      "text/plain": [
       "   index  PatientID   age  gender   bmi  bloodpressure diabetic  children  \\\n",
       "0    574        575  53.0  female  27.7             88      Yes         0   \n",
       "1    661        662  43.0  female  28.9             84      Yes         1   \n",
       "2    458        459  34.0  female  40.6             98       No         1   \n",
       "3   1023       1024  51.0  female  41.3             98       No         0   \n",
       "4    958        959  28.0  female  25.1            103       No         0   \n",
       "\n",
       "  smoker     region     claim  \n",
       "0     No  northwest   8026.67  \n",
       "1     No  northwest   9249.50  \n",
       "2     No  northwest   6373.56  \n",
       "3     No  northeast  17878.90  \n",
       "4     No  northwest  14254.61  "
      ]
     },
     "execution_count": 4,
     "metadata": {},
     "output_type": "execute_result"
    }
   ],
   "source": [
    "data.head()"
   ]
  },
  {
   "cell_type": "code",
   "execution_count": 5,
   "id": "526601c2",
   "metadata": {},
   "outputs": [
    {
     "data": {
      "text/plain": [
       "index              int64\n",
       "PatientID          int64\n",
       "age              float64\n",
       "gender            object\n",
       "bmi              float64\n",
       "bloodpressure      int64\n",
       "diabetic          object\n",
       "children           int64\n",
       "smoker            object\n",
       "region            object\n",
       "claim            float64\n",
       "dtype: object"
      ]
     },
     "execution_count": 5,
     "metadata": {},
     "output_type": "execute_result"
    }
   ],
   "source": [
    "data.dtypes"
   ]
  },
  {
   "cell_type": "code",
   "execution_count": 6,
   "id": "76feff40",
   "metadata": {},
   "outputs": [],
   "source": [
    "data.drop(['index', 'PatientID'], axis=1, inplace=True)"
   ]
  },
  {
   "cell_type": "code",
   "execution_count": 7,
   "id": "af9ac602",
   "metadata": {},
   "outputs": [
    {
     "data": {
      "text/plain": [
       "268"
      ]
     },
     "execution_count": 7,
     "metadata": {},
     "output_type": "execute_result"
    }
   ],
   "source": [
    "len(data)"
   ]
  },
  {
   "cell_type": "markdown",
   "id": "a6f968cc",
   "metadata": {},
   "source": [
    "These steps are needed to be handled.\n",
    "\n",
    "- Missing value\n",
    "- k-1 one hot encoding\n",
    "- scaling"
   ]
  },
  {
   "cell_type": "markdown",
   "id": "2bc21e40",
   "metadata": {},
   "source": [
    "## Missing values"
   ]
  },
  {
   "cell_type": "markdown",
   "id": "9ff500d6",
   "metadata": {},
   "source": [
    "### Categorical values"
   ]
  },
  {
   "cell_type": "code",
   "execution_count": 8,
   "id": "0b297433",
   "metadata": {},
   "outputs": [],
   "source": [
    "data['region'].fillna('southeast', inplace=True)"
   ]
  },
  {
   "cell_type": "markdown",
   "id": "1854e4e7",
   "metadata": {},
   "source": [
    "### Numerical values"
   ]
  },
  {
   "cell_type": "code",
   "execution_count": 9,
   "id": "88800b20",
   "metadata": {},
   "outputs": [],
   "source": [
    "data['age'].fillna(38.0, inplace=True)"
   ]
  },
  {
   "cell_type": "code",
   "execution_count": 10,
   "id": "f32d68af",
   "metadata": {},
   "outputs": [],
   "source": [
    "## Feature transformation"
   ]
  },
  {
   "cell_type": "code",
   "execution_count": 11,
   "id": "a47746a1",
   "metadata": {},
   "outputs": [],
   "source": [
    "# data['bloodpressure'] = stats.yeojohnson(data['bloodpressure'], lmbda=-3.3474597314221075)"
   ]
  },
  {
   "cell_type": "markdown",
   "id": "e22ceb87",
   "metadata": {},
   "source": [
    "## k-1 one hot encoding"
   ]
  },
  {
   "cell_type": "code",
   "execution_count": 12,
   "id": "afff91e2",
   "metadata": {},
   "outputs": [],
   "source": [
    "cat_vars = ['gender', 'diabetic', 'smoker', 'region']"
   ]
  },
  {
   "cell_type": "code",
   "execution_count": 13,
   "id": "280fc3c3",
   "metadata": {},
   "outputs": [],
   "source": [
    "for var in cat_vars:\n",
    "    \n",
    "    data = pd.concat([data, pd.get_dummies(data[var],\n",
    "                                                drop_first=True, prefix=var)], axis=1)"
   ]
  },
  {
   "cell_type": "code",
   "execution_count": 14,
   "id": "6fd6a17f",
   "metadata": {},
   "outputs": [],
   "source": [
    "data.drop(cat_vars, axis=1, inplace=True)"
   ]
  },
  {
   "cell_type": "code",
   "execution_count": 15,
   "id": "8dd16e44",
   "metadata": {},
   "outputs": [
    {
     "data": {
      "text/html": [
       "<div>\n",
       "<style scoped>\n",
       "    .dataframe tbody tr th:only-of-type {\n",
       "        vertical-align: middle;\n",
       "    }\n",
       "\n",
       "    .dataframe tbody tr th {\n",
       "        vertical-align: top;\n",
       "    }\n",
       "\n",
       "    .dataframe thead th {\n",
       "        text-align: right;\n",
       "    }\n",
       "</style>\n",
       "<table border=\"1\" class=\"dataframe\">\n",
       "  <thead>\n",
       "    <tr style=\"text-align: right;\">\n",
       "      <th></th>\n",
       "      <th>age</th>\n",
       "      <th>bmi</th>\n",
       "      <th>bloodpressure</th>\n",
       "      <th>children</th>\n",
       "      <th>claim</th>\n",
       "      <th>gender_male</th>\n",
       "      <th>diabetic_Yes</th>\n",
       "      <th>smoker_Yes</th>\n",
       "      <th>region_northwest</th>\n",
       "      <th>region_southeast</th>\n",
       "      <th>region_southwest</th>\n",
       "    </tr>\n",
       "  </thead>\n",
       "  <tbody>\n",
       "    <tr>\n",
       "      <th>0</th>\n",
       "      <td>53.0</td>\n",
       "      <td>27.7</td>\n",
       "      <td>88</td>\n",
       "      <td>0</td>\n",
       "      <td>8026.67</td>\n",
       "      <td>0</td>\n",
       "      <td>1</td>\n",
       "      <td>0</td>\n",
       "      <td>1</td>\n",
       "      <td>0</td>\n",
       "      <td>0</td>\n",
       "    </tr>\n",
       "    <tr>\n",
       "      <th>1</th>\n",
       "      <td>43.0</td>\n",
       "      <td>28.9</td>\n",
       "      <td>84</td>\n",
       "      <td>1</td>\n",
       "      <td>9249.50</td>\n",
       "      <td>0</td>\n",
       "      <td>1</td>\n",
       "      <td>0</td>\n",
       "      <td>1</td>\n",
       "      <td>0</td>\n",
       "      <td>0</td>\n",
       "    </tr>\n",
       "    <tr>\n",
       "      <th>2</th>\n",
       "      <td>34.0</td>\n",
       "      <td>40.6</td>\n",
       "      <td>98</td>\n",
       "      <td>1</td>\n",
       "      <td>6373.56</td>\n",
       "      <td>0</td>\n",
       "      <td>0</td>\n",
       "      <td>0</td>\n",
       "      <td>1</td>\n",
       "      <td>0</td>\n",
       "      <td>0</td>\n",
       "    </tr>\n",
       "    <tr>\n",
       "      <th>3</th>\n",
       "      <td>51.0</td>\n",
       "      <td>41.3</td>\n",
       "      <td>98</td>\n",
       "      <td>0</td>\n",
       "      <td>17878.90</td>\n",
       "      <td>0</td>\n",
       "      <td>0</td>\n",
       "      <td>0</td>\n",
       "      <td>0</td>\n",
       "      <td>0</td>\n",
       "      <td>0</td>\n",
       "    </tr>\n",
       "    <tr>\n",
       "      <th>4</th>\n",
       "      <td>28.0</td>\n",
       "      <td>25.1</td>\n",
       "      <td>103</td>\n",
       "      <td>0</td>\n",
       "      <td>14254.61</td>\n",
       "      <td>0</td>\n",
       "      <td>0</td>\n",
       "      <td>0</td>\n",
       "      <td>1</td>\n",
       "      <td>0</td>\n",
       "      <td>0</td>\n",
       "    </tr>\n",
       "  </tbody>\n",
       "</table>\n",
       "</div>"
      ],
      "text/plain": [
       "    age   bmi  bloodpressure  children     claim  gender_male  diabetic_Yes  \\\n",
       "0  53.0  27.7             88         0   8026.67            0             1   \n",
       "1  43.0  28.9             84         1   9249.50            0             1   \n",
       "2  34.0  40.6             98         1   6373.56            0             0   \n",
       "3  51.0  41.3             98         0  17878.90            0             0   \n",
       "4  28.0  25.1            103         0  14254.61            0             0   \n",
       "\n",
       "   smoker_Yes  region_northwest  region_southeast  region_southwest  \n",
       "0           0                 1                 0                 0  \n",
       "1           0                 1                 0                 0  \n",
       "2           0                 1                 0                 0  \n",
       "3           0                 0                 0                 0  \n",
       "4           0                 1                 0                 0  "
      ]
     },
     "execution_count": 15,
     "metadata": {},
     "output_type": "execute_result"
    }
   ],
   "source": [
    "data.head()"
   ]
  },
  {
   "cell_type": "code",
   "execution_count": 16,
   "id": "739db05d",
   "metadata": {},
   "outputs": [
    {
     "data": {
      "text/plain": [
       "age                 float64\n",
       "bmi                 float64\n",
       "bloodpressure         int64\n",
       "children              int64\n",
       "claim               float64\n",
       "gender_male           uint8\n",
       "diabetic_Yes          uint8\n",
       "smoker_Yes            uint8\n",
       "region_northwest      uint8\n",
       "region_southeast      uint8\n",
       "region_southwest      uint8\n",
       "dtype: object"
      ]
     },
     "execution_count": 16,
     "metadata": {},
     "output_type": "execute_result"
    }
   ],
   "source": [
    "data.dtypes"
   ]
  },
  {
   "cell_type": "code",
   "execution_count": 17,
   "id": "867fcbad",
   "metadata": {},
   "outputs": [],
   "source": [
    "y = data[\"claim\"]\n",
    "x = data.drop([\"claim\"], axis=1)"
   ]
  },
  {
   "cell_type": "code",
   "execution_count": 18,
   "id": "fbb9fc43",
   "metadata": {},
   "outputs": [
    {
     "data": {
      "text/plain": [
       "0     8026.67\n",
       "1     9249.50\n",
       "2     6373.56\n",
       "3    17878.90\n",
       "4    14254.61\n",
       "Name: claim, dtype: float64"
      ]
     },
     "execution_count": 18,
     "metadata": {},
     "output_type": "execute_result"
    }
   ],
   "source": [
    "y.head()"
   ]
  },
  {
   "cell_type": "code",
   "execution_count": 19,
   "id": "5d7cf5c3",
   "metadata": {},
   "outputs": [
    {
     "data": {
      "text/html": [
       "<div>\n",
       "<style scoped>\n",
       "    .dataframe tbody tr th:only-of-type {\n",
       "        vertical-align: middle;\n",
       "    }\n",
       "\n",
       "    .dataframe tbody tr th {\n",
       "        vertical-align: top;\n",
       "    }\n",
       "\n",
       "    .dataframe thead th {\n",
       "        text-align: right;\n",
       "    }\n",
       "</style>\n",
       "<table border=\"1\" class=\"dataframe\">\n",
       "  <thead>\n",
       "    <tr style=\"text-align: right;\">\n",
       "      <th></th>\n",
       "      <th>age</th>\n",
       "      <th>bmi</th>\n",
       "      <th>bloodpressure</th>\n",
       "      <th>children</th>\n",
       "      <th>gender_male</th>\n",
       "      <th>diabetic_Yes</th>\n",
       "      <th>smoker_Yes</th>\n",
       "      <th>region_northwest</th>\n",
       "      <th>region_southeast</th>\n",
       "      <th>region_southwest</th>\n",
       "    </tr>\n",
       "  </thead>\n",
       "  <tbody>\n",
       "    <tr>\n",
       "      <th>0</th>\n",
       "      <td>53.0</td>\n",
       "      <td>27.7</td>\n",
       "      <td>88</td>\n",
       "      <td>0</td>\n",
       "      <td>0</td>\n",
       "      <td>1</td>\n",
       "      <td>0</td>\n",
       "      <td>1</td>\n",
       "      <td>0</td>\n",
       "      <td>0</td>\n",
       "    </tr>\n",
       "    <tr>\n",
       "      <th>1</th>\n",
       "      <td>43.0</td>\n",
       "      <td>28.9</td>\n",
       "      <td>84</td>\n",
       "      <td>1</td>\n",
       "      <td>0</td>\n",
       "      <td>1</td>\n",
       "      <td>0</td>\n",
       "      <td>1</td>\n",
       "      <td>0</td>\n",
       "      <td>0</td>\n",
       "    </tr>\n",
       "    <tr>\n",
       "      <th>2</th>\n",
       "      <td>34.0</td>\n",
       "      <td>40.6</td>\n",
       "      <td>98</td>\n",
       "      <td>1</td>\n",
       "      <td>0</td>\n",
       "      <td>0</td>\n",
       "      <td>0</td>\n",
       "      <td>1</td>\n",
       "      <td>0</td>\n",
       "      <td>0</td>\n",
       "    </tr>\n",
       "    <tr>\n",
       "      <th>3</th>\n",
       "      <td>51.0</td>\n",
       "      <td>41.3</td>\n",
       "      <td>98</td>\n",
       "      <td>0</td>\n",
       "      <td>0</td>\n",
       "      <td>0</td>\n",
       "      <td>0</td>\n",
       "      <td>0</td>\n",
       "      <td>0</td>\n",
       "      <td>0</td>\n",
       "    </tr>\n",
       "    <tr>\n",
       "      <th>4</th>\n",
       "      <td>28.0</td>\n",
       "      <td>25.1</td>\n",
       "      <td>103</td>\n",
       "      <td>0</td>\n",
       "      <td>0</td>\n",
       "      <td>0</td>\n",
       "      <td>0</td>\n",
       "      <td>1</td>\n",
       "      <td>0</td>\n",
       "      <td>0</td>\n",
       "    </tr>\n",
       "  </tbody>\n",
       "</table>\n",
       "</div>"
      ],
      "text/plain": [
       "    age   bmi  bloodpressure  children  gender_male  diabetic_Yes  smoker_Yes  \\\n",
       "0  53.0  27.7             88         0            0             1           0   \n",
       "1  43.0  28.9             84         1            0             1           0   \n",
       "2  34.0  40.6             98         1            0             0           0   \n",
       "3  51.0  41.3             98         0            0             0           0   \n",
       "4  28.0  25.1            103         0            0             0           0   \n",
       "\n",
       "   region_northwest  region_southeast  region_southwest  \n",
       "0                 1                 0                 0  \n",
       "1                 1                 0                 0  \n",
       "2                 1                 0                 0  \n",
       "3                 0                 0                 0  \n",
       "4                 1                 0                 0  "
      ]
     },
     "execution_count": 19,
     "metadata": {},
     "output_type": "execute_result"
    }
   ],
   "source": [
    "x.head()"
   ]
  },
  {
   "cell_type": "markdown",
   "id": "4515b759",
   "metadata": {},
   "source": [
    "## Scaling"
   ]
  },
  {
   "cell_type": "code",
   "execution_count": 20,
   "id": "db2208ea",
   "metadata": {},
   "outputs": [],
   "source": [
    "scaler = joblib.load(\"../models/minmax_scaler.joblib\")"
   ]
  },
  {
   "cell_type": "code",
   "execution_count": 21,
   "id": "59464f46",
   "metadata": {},
   "outputs": [],
   "source": [
    "x = pd.DataFrame(scaler.transform(x), columns=x.columns)"
   ]
  },
  {
   "cell_type": "code",
   "execution_count": 22,
   "id": "87bef800",
   "metadata": {},
   "outputs": [
    {
     "data": {
      "text/html": [
       "<div>\n",
       "<style scoped>\n",
       "    .dataframe tbody tr th:only-of-type {\n",
       "        vertical-align: middle;\n",
       "    }\n",
       "\n",
       "    .dataframe tbody tr th {\n",
       "        vertical-align: top;\n",
       "    }\n",
       "\n",
       "    .dataframe thead th {\n",
       "        text-align: right;\n",
       "    }\n",
       "</style>\n",
       "<table border=\"1\" class=\"dataframe\">\n",
       "  <thead>\n",
       "    <tr style=\"text-align: right;\">\n",
       "      <th></th>\n",
       "      <th>age</th>\n",
       "      <th>bmi</th>\n",
       "      <th>bloodpressure</th>\n",
       "      <th>children</th>\n",
       "      <th>gender_male</th>\n",
       "      <th>diabetic_Yes</th>\n",
       "      <th>smoker_Yes</th>\n",
       "      <th>region_northwest</th>\n",
       "      <th>region_southeast</th>\n",
       "      <th>region_southwest</th>\n",
       "    </tr>\n",
       "  </thead>\n",
       "  <tbody>\n",
       "    <tr>\n",
       "      <th>0</th>\n",
       "      <td>0.833333</td>\n",
       "      <td>0.319672</td>\n",
       "      <td>0.133333</td>\n",
       "      <td>0.0</td>\n",
       "      <td>0.0</td>\n",
       "      <td>1.0</td>\n",
       "      <td>0.0</td>\n",
       "      <td>1.0</td>\n",
       "      <td>0.0</td>\n",
       "      <td>0.0</td>\n",
       "    </tr>\n",
       "    <tr>\n",
       "      <th>1</th>\n",
       "      <td>0.595238</td>\n",
       "      <td>0.352459</td>\n",
       "      <td>0.066667</td>\n",
       "      <td>0.2</td>\n",
       "      <td>0.0</td>\n",
       "      <td>1.0</td>\n",
       "      <td>0.0</td>\n",
       "      <td>1.0</td>\n",
       "      <td>0.0</td>\n",
       "      <td>0.0</td>\n",
       "    </tr>\n",
       "    <tr>\n",
       "      <th>2</th>\n",
       "      <td>0.380952</td>\n",
       "      <td>0.672131</td>\n",
       "      <td>0.300000</td>\n",
       "      <td>0.2</td>\n",
       "      <td>0.0</td>\n",
       "      <td>0.0</td>\n",
       "      <td>0.0</td>\n",
       "      <td>1.0</td>\n",
       "      <td>0.0</td>\n",
       "      <td>0.0</td>\n",
       "    </tr>\n",
       "    <tr>\n",
       "      <th>3</th>\n",
       "      <td>0.785714</td>\n",
       "      <td>0.691257</td>\n",
       "      <td>0.300000</td>\n",
       "      <td>0.0</td>\n",
       "      <td>0.0</td>\n",
       "      <td>0.0</td>\n",
       "      <td>0.0</td>\n",
       "      <td>0.0</td>\n",
       "      <td>0.0</td>\n",
       "      <td>0.0</td>\n",
       "    </tr>\n",
       "    <tr>\n",
       "      <th>4</th>\n",
       "      <td>0.238095</td>\n",
       "      <td>0.248634</td>\n",
       "      <td>0.383333</td>\n",
       "      <td>0.0</td>\n",
       "      <td>0.0</td>\n",
       "      <td>0.0</td>\n",
       "      <td>0.0</td>\n",
       "      <td>1.0</td>\n",
       "      <td>0.0</td>\n",
       "      <td>0.0</td>\n",
       "    </tr>\n",
       "  </tbody>\n",
       "</table>\n",
       "</div>"
      ],
      "text/plain": [
       "        age       bmi  bloodpressure  children  gender_male  diabetic_Yes  \\\n",
       "0  0.833333  0.319672       0.133333       0.0          0.0           1.0   \n",
       "1  0.595238  0.352459       0.066667       0.2          0.0           1.0   \n",
       "2  0.380952  0.672131       0.300000       0.2          0.0           0.0   \n",
       "3  0.785714  0.691257       0.300000       0.0          0.0           0.0   \n",
       "4  0.238095  0.248634       0.383333       0.0          0.0           0.0   \n",
       "\n",
       "   smoker_Yes  region_northwest  region_southeast  region_southwest  \n",
       "0         0.0               1.0               0.0               0.0  \n",
       "1         0.0               1.0               0.0               0.0  \n",
       "2         0.0               1.0               0.0               0.0  \n",
       "3         0.0               0.0               0.0               0.0  \n",
       "4         0.0               1.0               0.0               0.0  "
      ]
     },
     "execution_count": 22,
     "metadata": {},
     "output_type": "execute_result"
    }
   ],
   "source": [
    "x.head()"
   ]
  },
  {
   "cell_type": "markdown",
   "id": "8055f096",
   "metadata": {},
   "source": [
    "## Prediction"
   ]
  },
  {
   "cell_type": "code",
   "execution_count": 23,
   "id": "6f2ffd1a",
   "metadata": {},
   "outputs": [],
   "source": [
    "model = joblib.load(\"../models/model.joblib\")"
   ]
  },
  {
   "cell_type": "code",
   "execution_count": 24,
   "id": "67a160fa",
   "metadata": {},
   "outputs": [
    {
     "data": {
      "text/html": [
       "<div>\n",
       "<style scoped>\n",
       "    .dataframe tbody tr th:only-of-type {\n",
       "        vertical-align: middle;\n",
       "    }\n",
       "\n",
       "    .dataframe tbody tr th {\n",
       "        vertical-align: top;\n",
       "    }\n",
       "\n",
       "    .dataframe thead th {\n",
       "        text-align: right;\n",
       "    }\n",
       "</style>\n",
       "<table border=\"1\" class=\"dataframe\">\n",
       "  <thead>\n",
       "    <tr style=\"text-align: right;\">\n",
       "      <th></th>\n",
       "      <th>age</th>\n",
       "      <th>bmi</th>\n",
       "      <th>bloodpressure</th>\n",
       "      <th>children</th>\n",
       "      <th>gender_male</th>\n",
       "      <th>diabetic_Yes</th>\n",
       "      <th>smoker_Yes</th>\n",
       "      <th>region_northwest</th>\n",
       "      <th>region_southeast</th>\n",
       "      <th>region_southwest</th>\n",
       "    </tr>\n",
       "  </thead>\n",
       "  <tbody>\n",
       "    <tr>\n",
       "      <th>0</th>\n",
       "      <td>0.833333</td>\n",
       "      <td>0.319672</td>\n",
       "      <td>0.133333</td>\n",
       "      <td>0.0</td>\n",
       "      <td>0.0</td>\n",
       "      <td>1.0</td>\n",
       "      <td>0.0</td>\n",
       "      <td>1.0</td>\n",
       "      <td>0.0</td>\n",
       "      <td>0.0</td>\n",
       "    </tr>\n",
       "    <tr>\n",
       "      <th>1</th>\n",
       "      <td>0.595238</td>\n",
       "      <td>0.352459</td>\n",
       "      <td>0.066667</td>\n",
       "      <td>0.2</td>\n",
       "      <td>0.0</td>\n",
       "      <td>1.0</td>\n",
       "      <td>0.0</td>\n",
       "      <td>1.0</td>\n",
       "      <td>0.0</td>\n",
       "      <td>0.0</td>\n",
       "    </tr>\n",
       "    <tr>\n",
       "      <th>2</th>\n",
       "      <td>0.380952</td>\n",
       "      <td>0.672131</td>\n",
       "      <td>0.300000</td>\n",
       "      <td>0.2</td>\n",
       "      <td>0.0</td>\n",
       "      <td>0.0</td>\n",
       "      <td>0.0</td>\n",
       "      <td>1.0</td>\n",
       "      <td>0.0</td>\n",
       "      <td>0.0</td>\n",
       "    </tr>\n",
       "    <tr>\n",
       "      <th>3</th>\n",
       "      <td>0.785714</td>\n",
       "      <td>0.691257</td>\n",
       "      <td>0.300000</td>\n",
       "      <td>0.0</td>\n",
       "      <td>0.0</td>\n",
       "      <td>0.0</td>\n",
       "      <td>0.0</td>\n",
       "      <td>0.0</td>\n",
       "      <td>0.0</td>\n",
       "      <td>0.0</td>\n",
       "    </tr>\n",
       "    <tr>\n",
       "      <th>4</th>\n",
       "      <td>0.238095</td>\n",
       "      <td>0.248634</td>\n",
       "      <td>0.383333</td>\n",
       "      <td>0.0</td>\n",
       "      <td>0.0</td>\n",
       "      <td>0.0</td>\n",
       "      <td>0.0</td>\n",
       "      <td>1.0</td>\n",
       "      <td>0.0</td>\n",
       "      <td>0.0</td>\n",
       "    </tr>\n",
       "  </tbody>\n",
       "</table>\n",
       "</div>"
      ],
      "text/plain": [
       "        age       bmi  bloodpressure  children  gender_male  diabetic_Yes  \\\n",
       "0  0.833333  0.319672       0.133333       0.0          0.0           1.0   \n",
       "1  0.595238  0.352459       0.066667       0.2          0.0           1.0   \n",
       "2  0.380952  0.672131       0.300000       0.2          0.0           0.0   \n",
       "3  0.785714  0.691257       0.300000       0.0          0.0           0.0   \n",
       "4  0.238095  0.248634       0.383333       0.0          0.0           0.0   \n",
       "\n",
       "   smoker_Yes  region_northwest  region_southeast  region_southwest  \n",
       "0         0.0               1.0               0.0               0.0  \n",
       "1         0.0               1.0               0.0               0.0  \n",
       "2         0.0               1.0               0.0               0.0  \n",
       "3         0.0               0.0               0.0               0.0  \n",
       "4         0.0               1.0               0.0               0.0  "
      ]
     },
     "execution_count": 24,
     "metadata": {},
     "output_type": "execute_result"
    }
   ],
   "source": [
    "x.head()"
   ]
  },
  {
   "cell_type": "code",
   "execution_count": 25,
   "id": "2debaf2a",
   "metadata": {},
   "outputs": [],
   "source": [
    "pred = model.predict(x)"
   ]
  },
  {
   "cell_type": "code",
   "execution_count": 26,
   "id": "e6c8cc80",
   "metadata": {},
   "outputs": [
    {
     "data": {
      "text/plain": [
       "268"
      ]
     },
     "execution_count": 26,
     "metadata": {},
     "output_type": "execute_result"
    }
   ],
   "source": [
    "len(np.exp(pred))"
   ]
  },
  {
   "cell_type": "code",
   "execution_count": 27,
   "id": "088d2734",
   "metadata": {},
   "outputs": [
    {
     "data": {
      "text/plain": [
       "268"
      ]
     },
     "execution_count": 27,
     "metadata": {},
     "output_type": "execute_result"
    }
   ],
   "source": [
    "len(y.values)"
   ]
  },
  {
   "cell_type": "code",
   "execution_count": 28,
   "id": "b95787e4",
   "metadata": {},
   "outputs": [
    {
     "data": {
      "text/plain": [
       "(array([ 4573.84938394, 12735.80115635, 37820.02984304,  5613.87171603,\n",
       "         6420.51467641, 12046.76466518, 40009.41150282,  7806.45256542,\n",
       "         6235.21505569, 20621.087086  ]),\n",
       " 20    13770.10\n",
       " 21    24227.34\n",
       " 22    39727.61\n",
       " 23     7147.47\n",
       " 24     5630.46\n",
       " 25    20177.67\n",
       " 26    43254.42\n",
       " 27    36580.28\n",
       " 28     7633.72\n",
       " 29    21978.68\n",
       " Name: claim, dtype: float64)"
      ]
     },
     "execution_count": 28,
     "metadata": {},
     "output_type": "execute_result"
    }
   ],
   "source": [
    "np.exp(pred)[20:30], y[20:30]"
   ]
  },
  {
   "cell_type": "code",
   "execution_count": 30,
   "id": "2654074c",
   "metadata": {},
   "outputs": [
    {
     "name": "stdout",
     "output_type": "stream",
     "text": [
      "train mse: 36517171\n",
      "train rmse: 6042\n",
      "train r2: 0.734257112684457\n",
      "\n"
     ]
    }
   ],
   "source": [
    "mse = int(mean_squared_error(y, np.exp(pred)))\n",
    "print('train mse: {}'.format(mse))\n",
    "\n",
    "rmse = int(mean_squared_error(y, np.exp(pred), squared=False))\n",
    "print('train rmse: {}'.format(rmse))\n",
    "\n",
    "r2 = r2_score(y, np.exp(pred))\n",
    "print('train r2: {}'.format(r2))\n",
    "print()"
   ]
  },
  {
   "cell_type": "code",
   "execution_count": null,
   "id": "b38e71ed",
   "metadata": {},
   "outputs": [],
   "source": []
  }
 ],
 "metadata": {
  "kernelspec": {
   "display_name": "insurance-claim-venv",
   "language": "python",
   "name": "insurance-claim-venv"
  },
  "language_info": {
   "codemirror_mode": {
    "name": "ipython",
    "version": 3
   },
   "file_extension": ".py",
   "mimetype": "text/x-python",
   "name": "python",
   "nbconvert_exporter": "python",
   "pygments_lexer": "ipython3",
   "version": "3.9.7"
  },
  "toc": {
   "base_numbering": 1,
   "nav_menu": {},
   "number_sections": true,
   "sideBar": true,
   "skip_h1_title": false,
   "title_cell": "Table of Contents",
   "title_sidebar": "Contents",
   "toc_cell": false,
   "toc_position": {},
   "toc_section_display": true,
   "toc_window_display": false
  }
 },
 "nbformat": 4,
 "nbformat_minor": 5
}
