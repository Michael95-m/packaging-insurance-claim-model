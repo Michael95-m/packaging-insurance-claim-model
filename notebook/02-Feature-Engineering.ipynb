{
 "cells": [
  {
   "cell_type": "code",
   "execution_count": 1,
   "id": "5adda795",
   "metadata": {},
   "outputs": [],
   "source": [
    "import pandas as pd\n",
    "import numpy as np\n",
    "import matplotlib.pyplot as plt\n",
    "import seaborn as sns\n",
    "import scipy.stats as stats\n",
    "\n",
    "pd.pandas.set_option(\"display.max_columns\", None)"
   ]
  },
  {
   "cell_type": "code",
   "execution_count": 2,
   "id": "c95afdcc",
   "metadata": {},
   "outputs": [],
   "source": [
    "from sklearn.model_selection import train_test_split\n",
    "from sklearn.preprocessing import MinMaxScaler, StandardScaler"
   ]
  },
  {
   "cell_type": "code",
   "execution_count": 3,
   "id": "57ed6ffb",
   "metadata": {},
   "outputs": [],
   "source": [
    "import joblib"
   ]
  },
  {
   "cell_type": "code",
   "execution_count": 4,
   "id": "77bf5a04",
   "metadata": {},
   "outputs": [],
   "source": [
    "data = pd.read_csv(\"../raw/insurance_data.csv\")"
   ]
  },
  {
   "cell_type": "code",
   "execution_count": 5,
   "id": "2089ccfd",
   "metadata": {},
   "outputs": [
    {
     "data": {
      "text/html": [
       "<div>\n",
       "<style scoped>\n",
       "    .dataframe tbody tr th:only-of-type {\n",
       "        vertical-align: middle;\n",
       "    }\n",
       "\n",
       "    .dataframe tbody tr th {\n",
       "        vertical-align: top;\n",
       "    }\n",
       "\n",
       "    .dataframe thead th {\n",
       "        text-align: right;\n",
       "    }\n",
       "</style>\n",
       "<table border=\"1\" class=\"dataframe\">\n",
       "  <thead>\n",
       "    <tr style=\"text-align: right;\">\n",
       "      <th></th>\n",
       "      <th>index</th>\n",
       "      <th>PatientID</th>\n",
       "      <th>age</th>\n",
       "      <th>gender</th>\n",
       "      <th>bmi</th>\n",
       "      <th>bloodpressure</th>\n",
       "      <th>diabetic</th>\n",
       "      <th>children</th>\n",
       "      <th>smoker</th>\n",
       "      <th>region</th>\n",
       "      <th>claim</th>\n",
       "    </tr>\n",
       "  </thead>\n",
       "  <tbody>\n",
       "    <tr>\n",
       "      <th>0</th>\n",
       "      <td>0</td>\n",
       "      <td>1</td>\n",
       "      <td>39.0</td>\n",
       "      <td>male</td>\n",
       "      <td>23.2</td>\n",
       "      <td>91</td>\n",
       "      <td>Yes</td>\n",
       "      <td>0</td>\n",
       "      <td>No</td>\n",
       "      <td>southeast</td>\n",
       "      <td>1121.87</td>\n",
       "    </tr>\n",
       "    <tr>\n",
       "      <th>1</th>\n",
       "      <td>1</td>\n",
       "      <td>2</td>\n",
       "      <td>24.0</td>\n",
       "      <td>male</td>\n",
       "      <td>30.1</td>\n",
       "      <td>87</td>\n",
       "      <td>No</td>\n",
       "      <td>0</td>\n",
       "      <td>No</td>\n",
       "      <td>southeast</td>\n",
       "      <td>1131.51</td>\n",
       "    </tr>\n",
       "    <tr>\n",
       "      <th>2</th>\n",
       "      <td>2</td>\n",
       "      <td>3</td>\n",
       "      <td>NaN</td>\n",
       "      <td>male</td>\n",
       "      <td>33.3</td>\n",
       "      <td>82</td>\n",
       "      <td>Yes</td>\n",
       "      <td>0</td>\n",
       "      <td>No</td>\n",
       "      <td>southeast</td>\n",
       "      <td>1135.94</td>\n",
       "    </tr>\n",
       "    <tr>\n",
       "      <th>3</th>\n",
       "      <td>3</td>\n",
       "      <td>4</td>\n",
       "      <td>NaN</td>\n",
       "      <td>male</td>\n",
       "      <td>33.7</td>\n",
       "      <td>80</td>\n",
       "      <td>No</td>\n",
       "      <td>0</td>\n",
       "      <td>No</td>\n",
       "      <td>northwest</td>\n",
       "      <td>1136.40</td>\n",
       "    </tr>\n",
       "    <tr>\n",
       "      <th>4</th>\n",
       "      <td>4</td>\n",
       "      <td>5</td>\n",
       "      <td>NaN</td>\n",
       "      <td>male</td>\n",
       "      <td>34.1</td>\n",
       "      <td>100</td>\n",
       "      <td>No</td>\n",
       "      <td>0</td>\n",
       "      <td>No</td>\n",
       "      <td>northwest</td>\n",
       "      <td>1137.01</td>\n",
       "    </tr>\n",
       "  </tbody>\n",
       "</table>\n",
       "</div>"
      ],
      "text/plain": [
       "   index  PatientID   age gender   bmi  bloodpressure diabetic  children  \\\n",
       "0      0          1  39.0   male  23.2             91      Yes         0   \n",
       "1      1          2  24.0   male  30.1             87       No         0   \n",
       "2      2          3   NaN   male  33.3             82      Yes         0   \n",
       "3      3          4   NaN   male  33.7             80       No         0   \n",
       "4      4          5   NaN   male  34.1            100       No         0   \n",
       "\n",
       "  smoker     region    claim  \n",
       "0     No  southeast  1121.87  \n",
       "1     No  southeast  1131.51  \n",
       "2     No  southeast  1135.94  \n",
       "3     No  northwest  1136.40  \n",
       "4     No  northwest  1137.01  "
      ]
     },
     "execution_count": 5,
     "metadata": {},
     "output_type": "execute_result"
    }
   ],
   "source": [
    "data.head()"
   ]
  },
  {
   "cell_type": "code",
   "execution_count": 6,
   "id": "5a210eb6",
   "metadata": {},
   "outputs": [
    {
     "data": {
      "text/plain": [
       "(1340, 11)"
      ]
     },
     "execution_count": 6,
     "metadata": {},
     "output_type": "execute_result"
    }
   ],
   "source": [
    "data.shape"
   ]
  },
  {
   "cell_type": "code",
   "execution_count": 7,
   "id": "88d40352",
   "metadata": {},
   "outputs": [],
   "source": [
    "train, test = train_test_split(data,test_size=0.2,random_state=0)"
   ]
  },
  {
   "cell_type": "code",
   "execution_count": 8,
   "id": "1182e1e9",
   "metadata": {},
   "outputs": [
    {
     "data": {
      "text/html": [
       "<div>\n",
       "<style scoped>\n",
       "    .dataframe tbody tr th:only-of-type {\n",
       "        vertical-align: middle;\n",
       "    }\n",
       "\n",
       "    .dataframe tbody tr th {\n",
       "        vertical-align: top;\n",
       "    }\n",
       "\n",
       "    .dataframe thead th {\n",
       "        text-align: right;\n",
       "    }\n",
       "</style>\n",
       "<table border=\"1\" class=\"dataframe\">\n",
       "  <thead>\n",
       "    <tr style=\"text-align: right;\">\n",
       "      <th></th>\n",
       "      <th>index</th>\n",
       "      <th>PatientID</th>\n",
       "      <th>age</th>\n",
       "      <th>gender</th>\n",
       "      <th>bmi</th>\n",
       "      <th>bloodpressure</th>\n",
       "      <th>diabetic</th>\n",
       "      <th>children</th>\n",
       "      <th>smoker</th>\n",
       "      <th>region</th>\n",
       "      <th>claim</th>\n",
       "    </tr>\n",
       "  </thead>\n",
       "  <tbody>\n",
       "    <tr>\n",
       "      <th>362</th>\n",
       "      <td>362</td>\n",
       "      <td>363</td>\n",
       "      <td>40.0</td>\n",
       "      <td>female</td>\n",
       "      <td>27.5</td>\n",
       "      <td>98</td>\n",
       "      <td>Yes</td>\n",
       "      <td>1</td>\n",
       "      <td>No</td>\n",
       "      <td>southwest</td>\n",
       "      <td>5003.85</td>\n",
       "    </tr>\n",
       "    <tr>\n",
       "      <th>483</th>\n",
       "      <td>483</td>\n",
       "      <td>484</td>\n",
       "      <td>48.0</td>\n",
       "      <td>male</td>\n",
       "      <td>42.4</td>\n",
       "      <td>92</td>\n",
       "      <td>Yes</td>\n",
       "      <td>5</td>\n",
       "      <td>No</td>\n",
       "      <td>southwest</td>\n",
       "      <td>6666.24</td>\n",
       "    </tr>\n",
       "    <tr>\n",
       "      <th>866</th>\n",
       "      <td>866</td>\n",
       "      <td>867</td>\n",
       "      <td>59.0</td>\n",
       "      <td>female</td>\n",
       "      <td>33.5</td>\n",
       "      <td>97</td>\n",
       "      <td>No</td>\n",
       "      <td>2</td>\n",
       "      <td>No</td>\n",
       "      <td>northwest</td>\n",
       "      <td>12269.69</td>\n",
       "    </tr>\n",
       "    <tr>\n",
       "      <th>625</th>\n",
       "      <td>625</td>\n",
       "      <td>626</td>\n",
       "      <td>26.0</td>\n",
       "      <td>male</td>\n",
       "      <td>27.4</td>\n",
       "      <td>92</td>\n",
       "      <td>No</td>\n",
       "      <td>3</td>\n",
       "      <td>No</td>\n",
       "      <td>northeast</td>\n",
       "      <td>8606.22</td>\n",
       "    </tr>\n",
       "    <tr>\n",
       "      <th>194</th>\n",
       "      <td>194</td>\n",
       "      <td>195</td>\n",
       "      <td>57.0</td>\n",
       "      <td>female</td>\n",
       "      <td>26.6</td>\n",
       "      <td>83</td>\n",
       "      <td>No</td>\n",
       "      <td>0</td>\n",
       "      <td>No</td>\n",
       "      <td>northeast</td>\n",
       "      <td>3046.06</td>\n",
       "    </tr>\n",
       "  </tbody>\n",
       "</table>\n",
       "</div>"
      ],
      "text/plain": [
       "     index  PatientID   age  gender   bmi  bloodpressure diabetic  children  \\\n",
       "362    362        363  40.0  female  27.5             98      Yes         1   \n",
       "483    483        484  48.0    male  42.4             92      Yes         5   \n",
       "866    866        867  59.0  female  33.5             97       No         2   \n",
       "625    625        626  26.0    male  27.4             92       No         3   \n",
       "194    194        195  57.0  female  26.6             83       No         0   \n",
       "\n",
       "    smoker     region     claim  \n",
       "362     No  southwest   5003.85  \n",
       "483     No  southwest   6666.24  \n",
       "866     No  northwest  12269.69  \n",
       "625     No  northeast   8606.22  \n",
       "194     No  northeast   3046.06  "
      ]
     },
     "execution_count": 8,
     "metadata": {},
     "output_type": "execute_result"
    }
   ],
   "source": [
    "train.head()"
   ]
  },
  {
   "cell_type": "code",
   "execution_count": 9,
   "id": "033e4205",
   "metadata": {},
   "outputs": [
    {
     "data": {
      "text/html": [
       "<div>\n",
       "<style scoped>\n",
       "    .dataframe tbody tr th:only-of-type {\n",
       "        vertical-align: middle;\n",
       "    }\n",
       "\n",
       "    .dataframe tbody tr th {\n",
       "        vertical-align: top;\n",
       "    }\n",
       "\n",
       "    .dataframe thead th {\n",
       "        text-align: right;\n",
       "    }\n",
       "</style>\n",
       "<table border=\"1\" class=\"dataframe\">\n",
       "  <thead>\n",
       "    <tr style=\"text-align: right;\">\n",
       "      <th></th>\n",
       "      <th>index</th>\n",
       "      <th>PatientID</th>\n",
       "      <th>age</th>\n",
       "      <th>gender</th>\n",
       "      <th>bmi</th>\n",
       "      <th>bloodpressure</th>\n",
       "      <th>diabetic</th>\n",
       "      <th>children</th>\n",
       "      <th>smoker</th>\n",
       "      <th>region</th>\n",
       "      <th>claim</th>\n",
       "    </tr>\n",
       "  </thead>\n",
       "  <tbody>\n",
       "    <tr>\n",
       "      <th>574</th>\n",
       "      <td>574</td>\n",
       "      <td>575</td>\n",
       "      <td>53.0</td>\n",
       "      <td>female</td>\n",
       "      <td>27.7</td>\n",
       "      <td>88</td>\n",
       "      <td>Yes</td>\n",
       "      <td>0</td>\n",
       "      <td>No</td>\n",
       "      <td>northwest</td>\n",
       "      <td>8026.67</td>\n",
       "    </tr>\n",
       "    <tr>\n",
       "      <th>661</th>\n",
       "      <td>661</td>\n",
       "      <td>662</td>\n",
       "      <td>43.0</td>\n",
       "      <td>female</td>\n",
       "      <td>28.9</td>\n",
       "      <td>84</td>\n",
       "      <td>Yes</td>\n",
       "      <td>1</td>\n",
       "      <td>No</td>\n",
       "      <td>northwest</td>\n",
       "      <td>9249.50</td>\n",
       "    </tr>\n",
       "    <tr>\n",
       "      <th>458</th>\n",
       "      <td>458</td>\n",
       "      <td>459</td>\n",
       "      <td>34.0</td>\n",
       "      <td>female</td>\n",
       "      <td>40.6</td>\n",
       "      <td>98</td>\n",
       "      <td>No</td>\n",
       "      <td>1</td>\n",
       "      <td>No</td>\n",
       "      <td>northwest</td>\n",
       "      <td>6373.56</td>\n",
       "    </tr>\n",
       "    <tr>\n",
       "      <th>1023</th>\n",
       "      <td>1023</td>\n",
       "      <td>1024</td>\n",
       "      <td>51.0</td>\n",
       "      <td>female</td>\n",
       "      <td>41.3</td>\n",
       "      <td>98</td>\n",
       "      <td>No</td>\n",
       "      <td>0</td>\n",
       "      <td>No</td>\n",
       "      <td>northeast</td>\n",
       "      <td>17878.90</td>\n",
       "    </tr>\n",
       "    <tr>\n",
       "      <th>958</th>\n",
       "      <td>958</td>\n",
       "      <td>959</td>\n",
       "      <td>28.0</td>\n",
       "      <td>female</td>\n",
       "      <td>25.1</td>\n",
       "      <td>103</td>\n",
       "      <td>No</td>\n",
       "      <td>0</td>\n",
       "      <td>No</td>\n",
       "      <td>northwest</td>\n",
       "      <td>14254.61</td>\n",
       "    </tr>\n",
       "  </tbody>\n",
       "</table>\n",
       "</div>"
      ],
      "text/plain": [
       "      index  PatientID   age  gender   bmi  bloodpressure diabetic  children  \\\n",
       "574     574        575  53.0  female  27.7             88      Yes         0   \n",
       "661     661        662  43.0  female  28.9             84      Yes         1   \n",
       "458     458        459  34.0  female  40.6             98       No         1   \n",
       "1023   1023       1024  51.0  female  41.3             98       No         0   \n",
       "958     958        959  28.0  female  25.1            103       No         0   \n",
       "\n",
       "     smoker     region     claim  \n",
       "574      No  northwest   8026.67  \n",
       "661      No  northwest   9249.50  \n",
       "458      No  northwest   6373.56  \n",
       "1023     No  northeast  17878.90  \n",
       "958      No  northwest  14254.61  "
      ]
     },
     "execution_count": 9,
     "metadata": {},
     "output_type": "execute_result"
    }
   ],
   "source": [
    "test.head()"
   ]
  },
  {
   "cell_type": "code",
   "execution_count": 10,
   "id": "04c6521f",
   "metadata": {},
   "outputs": [],
   "source": [
    "train.to_csv('../raw/train.csv', index=False)\n",
    "test.to_csv('../raw/test.csv', index=False)"
   ]
  },
  {
   "cell_type": "code",
   "execution_count": 11,
   "id": "9001fb1c",
   "metadata": {},
   "outputs": [],
   "source": [
    "train.drop(['index', 'PatientID'], axis=1, inplace=True)\n",
    "test.drop(['index', 'PatientID'], axis=1, inplace=True)"
   ]
  },
  {
   "cell_type": "code",
   "execution_count": 12,
   "id": "d74347c4",
   "metadata": {},
   "outputs": [
    {
     "data": {
      "text/html": [
       "<div>\n",
       "<style scoped>\n",
       "    .dataframe tbody tr th:only-of-type {\n",
       "        vertical-align: middle;\n",
       "    }\n",
       "\n",
       "    .dataframe tbody tr th {\n",
       "        vertical-align: top;\n",
       "    }\n",
       "\n",
       "    .dataframe thead th {\n",
       "        text-align: right;\n",
       "    }\n",
       "</style>\n",
       "<table border=\"1\" class=\"dataframe\">\n",
       "  <thead>\n",
       "    <tr style=\"text-align: right;\">\n",
       "      <th></th>\n",
       "      <th>age</th>\n",
       "      <th>gender</th>\n",
       "      <th>bmi</th>\n",
       "      <th>bloodpressure</th>\n",
       "      <th>diabetic</th>\n",
       "      <th>children</th>\n",
       "      <th>smoker</th>\n",
       "      <th>region</th>\n",
       "      <th>claim</th>\n",
       "    </tr>\n",
       "  </thead>\n",
       "  <tbody>\n",
       "    <tr>\n",
       "      <th>362</th>\n",
       "      <td>40.0</td>\n",
       "      <td>female</td>\n",
       "      <td>27.5</td>\n",
       "      <td>98</td>\n",
       "      <td>Yes</td>\n",
       "      <td>1</td>\n",
       "      <td>No</td>\n",
       "      <td>southwest</td>\n",
       "      <td>5003.85</td>\n",
       "    </tr>\n",
       "    <tr>\n",
       "      <th>483</th>\n",
       "      <td>48.0</td>\n",
       "      <td>male</td>\n",
       "      <td>42.4</td>\n",
       "      <td>92</td>\n",
       "      <td>Yes</td>\n",
       "      <td>5</td>\n",
       "      <td>No</td>\n",
       "      <td>southwest</td>\n",
       "      <td>6666.24</td>\n",
       "    </tr>\n",
       "    <tr>\n",
       "      <th>866</th>\n",
       "      <td>59.0</td>\n",
       "      <td>female</td>\n",
       "      <td>33.5</td>\n",
       "      <td>97</td>\n",
       "      <td>No</td>\n",
       "      <td>2</td>\n",
       "      <td>No</td>\n",
       "      <td>northwest</td>\n",
       "      <td>12269.69</td>\n",
       "    </tr>\n",
       "    <tr>\n",
       "      <th>625</th>\n",
       "      <td>26.0</td>\n",
       "      <td>male</td>\n",
       "      <td>27.4</td>\n",
       "      <td>92</td>\n",
       "      <td>No</td>\n",
       "      <td>3</td>\n",
       "      <td>No</td>\n",
       "      <td>northeast</td>\n",
       "      <td>8606.22</td>\n",
       "    </tr>\n",
       "    <tr>\n",
       "      <th>194</th>\n",
       "      <td>57.0</td>\n",
       "      <td>female</td>\n",
       "      <td>26.6</td>\n",
       "      <td>83</td>\n",
       "      <td>No</td>\n",
       "      <td>0</td>\n",
       "      <td>No</td>\n",
       "      <td>northeast</td>\n",
       "      <td>3046.06</td>\n",
       "    </tr>\n",
       "  </tbody>\n",
       "</table>\n",
       "</div>"
      ],
      "text/plain": [
       "      age  gender   bmi  bloodpressure diabetic  children smoker     region  \\\n",
       "362  40.0  female  27.5             98      Yes         1     No  southwest   \n",
       "483  48.0    male  42.4             92      Yes         5     No  southwest   \n",
       "866  59.0  female  33.5             97       No         2     No  northwest   \n",
       "625  26.0    male  27.4             92       No         3     No  northeast   \n",
       "194  57.0  female  26.6             83       No         0     No  northeast   \n",
       "\n",
       "        claim  \n",
       "362   5003.85  \n",
       "483   6666.24  \n",
       "866  12269.69  \n",
       "625   8606.22  \n",
       "194   3046.06  "
      ]
     },
     "execution_count": 12,
     "metadata": {},
     "output_type": "execute_result"
    }
   ],
   "source": [
    "train.head()"
   ]
  },
  {
   "cell_type": "code",
   "execution_count": 13,
   "id": "69f8021b",
   "metadata": {},
   "outputs": [],
   "source": [
    "y_train = train[\"claim\"]\n",
    "X_train = train.drop(\"claim\", axis=1)"
   ]
  },
  {
   "cell_type": "code",
   "execution_count": 14,
   "id": "f221ebfc",
   "metadata": {},
   "outputs": [],
   "source": [
    "y_test = test[\"claim\"]\n",
    "X_test = test.drop(\"claim\", axis=1)"
   ]
  },
  {
   "cell_type": "code",
   "execution_count": 15,
   "id": "be989b3f",
   "metadata": {},
   "outputs": [
    {
     "data": {
      "text/plain": [
       "((1072, 8), (268, 8))"
      ]
     },
     "execution_count": 15,
     "metadata": {},
     "output_type": "execute_result"
    }
   ],
   "source": [
    "X_train.shape, X_test.shape"
   ]
  },
  {
   "cell_type": "markdown",
   "id": "e9bb1c32",
   "metadata": {},
   "source": [
    "# Feature Engineering\n",
    "\n",
    "1. Target\n",
    "2. Missing value\n",
    "3. Non-gaussian distributed variables\n",
    "4. k-1 one hot encoding\n",
    "5. Put the variables in a similar scale"
   ]
  },
  {
   "cell_type": "code",
   "execution_count": 16,
   "id": "eb7a6c67",
   "metadata": {},
   "outputs": [],
   "source": [
    "cat_vars = ['gender', 'diabetic', 'smoker', 'region']\n",
    "num_vars = ['age', 'bmi', 'bloodpressure', 'children']"
   ]
  },
  {
   "cell_type": "markdown",
   "id": "e940ec24",
   "metadata": {},
   "source": [
    "## Target"
   ]
  },
  {
   "cell_type": "code",
   "execution_count": 17,
   "id": "dde77976",
   "metadata": {},
   "outputs": [],
   "source": [
    "y_train = np.log(y_train)\n",
    "y_test = np.log(y_test)"
   ]
  },
  {
   "cell_type": "markdown",
   "id": "dbfd267c",
   "metadata": {},
   "source": [
    "## Missing value"
   ]
  },
  {
   "cell_type": "markdown",
   "id": "629f8aea",
   "metadata": {},
   "source": [
    "The column which is categorical and has na value is **region** and the one which is numerical and has na value is **age**"
   ]
  },
  {
   "cell_type": "code",
   "execution_count": 18,
   "id": "f9b17636",
   "metadata": {},
   "outputs": [],
   "source": [
    "cat_na = ['region']\n",
    "num_na = ['age']"
   ]
  },
  {
   "cell_type": "code",
   "execution_count": 19,
   "id": "5e5a3558",
   "metadata": {},
   "outputs": [
    {
     "data": {
      "text/plain": [
       "(['region'], ['age'])"
      ]
     },
     "execution_count": 19,
     "metadata": {},
     "output_type": "execute_result"
    }
   ],
   "source": [
    "cat_na, num_na"
   ]
  },
  {
   "cell_type": "code",
   "execution_count": 20,
   "id": "e2500bce",
   "metadata": {},
   "outputs": [
    {
     "data": {
      "text/plain": [
       "region    0.149254\n",
       "dtype: float64"
      ]
     },
     "execution_count": 20,
     "metadata": {},
     "output_type": "execute_result"
    }
   ],
   "source": [
    "X_train[cat_na].isnull().sum() / len(data) * 100"
   ]
  },
  {
   "cell_type": "code",
   "execution_count": 21,
   "id": "b6f75ab5",
   "metadata": {},
   "outputs": [
    {
     "data": {
      "text/plain": [
       "age    0.298507\n",
       "dtype: float64"
      ]
     },
     "execution_count": 21,
     "metadata": {},
     "output_type": "execute_result"
    }
   ],
   "source": [
    "X_train[num_na].isnull().sum() / len(data) * 100"
   ]
  },
  {
   "cell_type": "markdown",
   "id": "feaaee5d",
   "metadata": {},
   "source": [
    "Since the amount of the missing value is under 1% of the total value, so let's replace these missing value with  most frequent value for categorical column and numerical value"
   ]
  },
  {
   "cell_type": "markdown",
   "id": "d17a6234",
   "metadata": {},
   "source": [
    "### categorical values"
   ]
  },
  {
   "cell_type": "code",
   "execution_count": 22,
   "id": "6adf3e8d",
   "metadata": {},
   "outputs": [
    {
     "name": "stdout",
     "output_type": "stream",
     "text": [
      "region southeast\n"
     ]
    }
   ],
   "source": [
    "for var in cat_na:\n",
    "    mode = X_train[var].mode()[0]\n",
    "    print(var, mode)\n",
    "    \n",
    "    X_train[var].fillna(mode, inplace=True)\n",
    "    X_test[var].fillna(mode, inplace=True)"
   ]
  },
  {
   "cell_type": "code",
   "execution_count": 23,
   "id": "252d62c1",
   "metadata": {},
   "outputs": [
    {
     "data": {
      "text/plain": [
       "gender      0\n",
       "diabetic    0\n",
       "smoker      0\n",
       "region      0\n",
       "dtype: int64"
      ]
     },
     "execution_count": 23,
     "metadata": {},
     "output_type": "execute_result"
    }
   ],
   "source": [
    "X_train[cat_vars].isnull().sum()"
   ]
  },
  {
   "cell_type": "markdown",
   "id": "33d718cc",
   "metadata": {},
   "source": [
    "### numerical values"
   ]
  },
  {
   "cell_type": "code",
   "execution_count": 24,
   "id": "296f09be",
   "metadata": {},
   "outputs": [
    {
     "name": "stdout",
     "output_type": "stream",
     "text": [
      "age 38\n"
     ]
    }
   ],
   "source": [
    "for var in num_na:\n",
    "    mean = round(X_train[var].mean())\n",
    "    print(var, mean)\n",
    "    \n",
    "    X_train[var].fillna(mean, inplace=True)\n",
    "    X_test[var].fillna(mean, inplace=True)\n",
    "    "
   ]
  },
  {
   "cell_type": "code",
   "execution_count": 25,
   "id": "9858916f",
   "metadata": {},
   "outputs": [
    {
     "data": {
      "text/plain": [
       "age              0\n",
       "bmi              0\n",
       "bloodpressure    0\n",
       "children         0\n",
       "dtype: int64"
      ]
     },
     "execution_count": 25,
     "metadata": {},
     "output_type": "execute_result"
    }
   ],
   "source": [
    "X_train[num_vars].isnull().sum()"
   ]
  },
  {
   "cell_type": "markdown",
   "id": "63a58647",
   "metadata": {},
   "source": [
    "## Non-gaussian distributed values"
   ]
  },
  {
   "cell_type": "markdown",
   "id": "70511ed9",
   "metadata": {},
   "source": [
    "As we can see from the EDA is that only blood pressure feature can be improved by using yeo johnson feature transformation"
   ]
  },
  {
   "cell_type": "code",
   "execution_count": 26,
   "id": "d1c91f0f",
   "metadata": {},
   "outputs": [],
   "source": [
    "# transform_feat = ['bloodpressure']"
   ]
  },
  {
   "cell_type": "code",
   "execution_count": 27,
   "id": "d5644b11",
   "metadata": {},
   "outputs": [],
   "source": [
    "# for var in transform_feat:\n",
    "    \n",
    "#     X_train[var], param = stats.yeojohnson(X_train[var])\n",
    "    \n",
    "#     X_test[var] = stats.yeojohnson(X_test[var], lmbda=param)\n",
    "    \n",
    "#     print(param)"
   ]
  },
  {
   "cell_type": "markdown",
   "id": "93de46ae",
   "metadata": {},
   "source": [
    "## k-1 one hot encoding"
   ]
  },
  {
   "cell_type": "code",
   "execution_count": 28,
   "id": "5b8b3e77",
   "metadata": {},
   "outputs": [
    {
     "data": {
      "text/plain": [
       "['gender', 'diabetic', 'smoker', 'region']"
      ]
     },
     "execution_count": 28,
     "metadata": {},
     "output_type": "execute_result"
    }
   ],
   "source": [
    "cat_vars"
   ]
  },
  {
   "cell_type": "code",
   "execution_count": 29,
   "id": "cbddf176",
   "metadata": {},
   "outputs": [],
   "source": [
    "for var in cat_vars:\n",
    "    \n",
    "    X_train = pd.concat([X_train, pd.get_dummies(X_train[var],\n",
    "                                                drop_first=True, prefix=var)], axis=1)\n",
    "    X_test = pd.concat([X_test, pd.get_dummies(X_test[var],\n",
    "                                                drop_first=True, prefix=var)], axis=1)"
   ]
  },
  {
   "cell_type": "code",
   "execution_count": 30,
   "id": "2bbc16ef",
   "metadata": {},
   "outputs": [],
   "source": [
    "X_train.drop(labels=cat_vars, axis=1, inplace=True)\n",
    "X_test.drop(labels=cat_vars, axis=1, inplace=True)"
   ]
  },
  {
   "cell_type": "code",
   "execution_count": 31,
   "id": "3bcf03f5",
   "metadata": {},
   "outputs": [
    {
     "data": {
      "text/plain": [
       "age                 0\n",
       "bmi                 0\n",
       "bloodpressure       0\n",
       "children            0\n",
       "gender_male         0\n",
       "diabetic_Yes        0\n",
       "smoker_Yes          0\n",
       "region_northwest    0\n",
       "region_southeast    0\n",
       "region_southwest    0\n",
       "dtype: int64"
      ]
     },
     "execution_count": 31,
     "metadata": {},
     "output_type": "execute_result"
    }
   ],
   "source": [
    "X_train.isnull().sum()"
   ]
  },
  {
   "cell_type": "code",
   "execution_count": 32,
   "id": "8a80113f",
   "metadata": {},
   "outputs": [
    {
     "data": {
      "text/plain": [
       "age                 0\n",
       "bmi                 0\n",
       "bloodpressure       0\n",
       "children            0\n",
       "gender_male         0\n",
       "diabetic_Yes        0\n",
       "smoker_Yes          0\n",
       "region_northwest    0\n",
       "region_southeast    0\n",
       "region_southwest    0\n",
       "dtype: int64"
      ]
     },
     "execution_count": 32,
     "metadata": {},
     "output_type": "execute_result"
    }
   ],
   "source": [
    "X_test.isnull().sum()"
   ]
  },
  {
   "cell_type": "code",
   "execution_count": 33,
   "id": "87762b0d",
   "metadata": {},
   "outputs": [
    {
     "data": {
      "text/html": [
       "<div>\n",
       "<style scoped>\n",
       "    .dataframe tbody tr th:only-of-type {\n",
       "        vertical-align: middle;\n",
       "    }\n",
       "\n",
       "    .dataframe tbody tr th {\n",
       "        vertical-align: top;\n",
       "    }\n",
       "\n",
       "    .dataframe thead th {\n",
       "        text-align: right;\n",
       "    }\n",
       "</style>\n",
       "<table border=\"1\" class=\"dataframe\">\n",
       "  <thead>\n",
       "    <tr style=\"text-align: right;\">\n",
       "      <th></th>\n",
       "      <th>age</th>\n",
       "      <th>bmi</th>\n",
       "      <th>bloodpressure</th>\n",
       "      <th>children</th>\n",
       "      <th>gender_male</th>\n",
       "      <th>diabetic_Yes</th>\n",
       "      <th>smoker_Yes</th>\n",
       "      <th>region_northwest</th>\n",
       "      <th>region_southeast</th>\n",
       "      <th>region_southwest</th>\n",
       "    </tr>\n",
       "  </thead>\n",
       "  <tbody>\n",
       "    <tr>\n",
       "      <th>362</th>\n",
       "      <td>40.0</td>\n",
       "      <td>27.5</td>\n",
       "      <td>98</td>\n",
       "      <td>1</td>\n",
       "      <td>0</td>\n",
       "      <td>1</td>\n",
       "      <td>0</td>\n",
       "      <td>0</td>\n",
       "      <td>0</td>\n",
       "      <td>1</td>\n",
       "    </tr>\n",
       "    <tr>\n",
       "      <th>483</th>\n",
       "      <td>48.0</td>\n",
       "      <td>42.4</td>\n",
       "      <td>92</td>\n",
       "      <td>5</td>\n",
       "      <td>1</td>\n",
       "      <td>1</td>\n",
       "      <td>0</td>\n",
       "      <td>0</td>\n",
       "      <td>0</td>\n",
       "      <td>1</td>\n",
       "    </tr>\n",
       "    <tr>\n",
       "      <th>866</th>\n",
       "      <td>59.0</td>\n",
       "      <td>33.5</td>\n",
       "      <td>97</td>\n",
       "      <td>2</td>\n",
       "      <td>0</td>\n",
       "      <td>0</td>\n",
       "      <td>0</td>\n",
       "      <td>1</td>\n",
       "      <td>0</td>\n",
       "      <td>0</td>\n",
       "    </tr>\n",
       "    <tr>\n",
       "      <th>625</th>\n",
       "      <td>26.0</td>\n",
       "      <td>27.4</td>\n",
       "      <td>92</td>\n",
       "      <td>3</td>\n",
       "      <td>1</td>\n",
       "      <td>0</td>\n",
       "      <td>0</td>\n",
       "      <td>0</td>\n",
       "      <td>0</td>\n",
       "      <td>0</td>\n",
       "    </tr>\n",
       "    <tr>\n",
       "      <th>194</th>\n",
       "      <td>57.0</td>\n",
       "      <td>26.6</td>\n",
       "      <td>83</td>\n",
       "      <td>0</td>\n",
       "      <td>0</td>\n",
       "      <td>0</td>\n",
       "      <td>0</td>\n",
       "      <td>0</td>\n",
       "      <td>0</td>\n",
       "      <td>0</td>\n",
       "    </tr>\n",
       "  </tbody>\n",
       "</table>\n",
       "</div>"
      ],
      "text/plain": [
       "      age   bmi  bloodpressure  children  gender_male  diabetic_Yes  \\\n",
       "362  40.0  27.5             98         1            0             1   \n",
       "483  48.0  42.4             92         5            1             1   \n",
       "866  59.0  33.5             97         2            0             0   \n",
       "625  26.0  27.4             92         3            1             0   \n",
       "194  57.0  26.6             83         0            0             0   \n",
       "\n",
       "     smoker_Yes  region_northwest  region_southeast  region_southwest  \n",
       "362           0                 0                 0                 1  \n",
       "483           0                 0                 0                 1  \n",
       "866           0                 1                 0                 0  \n",
       "625           0                 0                 0                 0  \n",
       "194           0                 0                 0                 0  "
      ]
     },
     "execution_count": 33,
     "metadata": {},
     "output_type": "execute_result"
    }
   ],
   "source": [
    "X_train.head()"
   ]
  },
  {
   "cell_type": "code",
   "execution_count": 34,
   "id": "005c7cf9",
   "metadata": {},
   "outputs": [
    {
     "data": {
      "text/html": [
       "<div>\n",
       "<style scoped>\n",
       "    .dataframe tbody tr th:only-of-type {\n",
       "        vertical-align: middle;\n",
       "    }\n",
       "\n",
       "    .dataframe tbody tr th {\n",
       "        vertical-align: top;\n",
       "    }\n",
       "\n",
       "    .dataframe thead th {\n",
       "        text-align: right;\n",
       "    }\n",
       "</style>\n",
       "<table border=\"1\" class=\"dataframe\">\n",
       "  <thead>\n",
       "    <tr style=\"text-align: right;\">\n",
       "      <th></th>\n",
       "      <th>age</th>\n",
       "      <th>bmi</th>\n",
       "      <th>bloodpressure</th>\n",
       "      <th>children</th>\n",
       "      <th>gender_male</th>\n",
       "      <th>diabetic_Yes</th>\n",
       "      <th>smoker_Yes</th>\n",
       "      <th>region_northwest</th>\n",
       "      <th>region_southeast</th>\n",
       "      <th>region_southwest</th>\n",
       "    </tr>\n",
       "  </thead>\n",
       "  <tbody>\n",
       "    <tr>\n",
       "      <th>574</th>\n",
       "      <td>53.0</td>\n",
       "      <td>27.7</td>\n",
       "      <td>88</td>\n",
       "      <td>0</td>\n",
       "      <td>0</td>\n",
       "      <td>1</td>\n",
       "      <td>0</td>\n",
       "      <td>1</td>\n",
       "      <td>0</td>\n",
       "      <td>0</td>\n",
       "    </tr>\n",
       "    <tr>\n",
       "      <th>661</th>\n",
       "      <td>43.0</td>\n",
       "      <td>28.9</td>\n",
       "      <td>84</td>\n",
       "      <td>1</td>\n",
       "      <td>0</td>\n",
       "      <td>1</td>\n",
       "      <td>0</td>\n",
       "      <td>1</td>\n",
       "      <td>0</td>\n",
       "      <td>0</td>\n",
       "    </tr>\n",
       "    <tr>\n",
       "      <th>458</th>\n",
       "      <td>34.0</td>\n",
       "      <td>40.6</td>\n",
       "      <td>98</td>\n",
       "      <td>1</td>\n",
       "      <td>0</td>\n",
       "      <td>0</td>\n",
       "      <td>0</td>\n",
       "      <td>1</td>\n",
       "      <td>0</td>\n",
       "      <td>0</td>\n",
       "    </tr>\n",
       "    <tr>\n",
       "      <th>1023</th>\n",
       "      <td>51.0</td>\n",
       "      <td>41.3</td>\n",
       "      <td>98</td>\n",
       "      <td>0</td>\n",
       "      <td>0</td>\n",
       "      <td>0</td>\n",
       "      <td>0</td>\n",
       "      <td>0</td>\n",
       "      <td>0</td>\n",
       "      <td>0</td>\n",
       "    </tr>\n",
       "    <tr>\n",
       "      <th>958</th>\n",
       "      <td>28.0</td>\n",
       "      <td>25.1</td>\n",
       "      <td>103</td>\n",
       "      <td>0</td>\n",
       "      <td>0</td>\n",
       "      <td>0</td>\n",
       "      <td>0</td>\n",
       "      <td>1</td>\n",
       "      <td>0</td>\n",
       "      <td>0</td>\n",
       "    </tr>\n",
       "  </tbody>\n",
       "</table>\n",
       "</div>"
      ],
      "text/plain": [
       "       age   bmi  bloodpressure  children  gender_male  diabetic_Yes  \\\n",
       "574   53.0  27.7             88         0            0             1   \n",
       "661   43.0  28.9             84         1            0             1   \n",
       "458   34.0  40.6             98         1            0             0   \n",
       "1023  51.0  41.3             98         0            0             0   \n",
       "958   28.0  25.1            103         0            0             0   \n",
       "\n",
       "      smoker_Yes  region_northwest  region_southeast  region_southwest  \n",
       "574            0                 1                 0                 0  \n",
       "661            0                 1                 0                 0  \n",
       "458            0                 1                 0                 0  \n",
       "1023           0                 0                 0                 0  \n",
       "958            0                 1                 0                 0  "
      ]
     },
     "execution_count": 34,
     "metadata": {},
     "output_type": "execute_result"
    }
   ],
   "source": [
    "X_test.head()"
   ]
  },
  {
   "cell_type": "markdown",
   "id": "a5fe2911",
   "metadata": {},
   "source": [
    "## feature scaling"
   ]
  },
  {
   "cell_type": "code",
   "execution_count": 35,
   "id": "3003d69c",
   "metadata": {},
   "outputs": [],
   "source": [
    "variables = X_train.columns.tolist()"
   ]
  },
  {
   "cell_type": "code",
   "execution_count": 36,
   "id": "403b1be4",
   "metadata": {},
   "outputs": [
    {
     "data": {
      "text/plain": [
       "['age',\n",
       " 'bmi',\n",
       " 'bloodpressure',\n",
       " 'children',\n",
       " 'gender_male',\n",
       " 'diabetic_Yes',\n",
       " 'smoker_Yes',\n",
       " 'region_northwest',\n",
       " 'region_southeast',\n",
       " 'region_southwest']"
      ]
     },
     "execution_count": 36,
     "metadata": {},
     "output_type": "execute_result"
    }
   ],
   "source": [
    "variables"
   ]
  },
  {
   "cell_type": "code",
   "execution_count": 37,
   "id": "1f761267",
   "metadata": {},
   "outputs": [],
   "source": [
    "scaler = MinMaxScaler()\n",
    "scaler.fit(X_train)\n",
    "\n",
    "X_train = pd.DataFrame(scaler.transform(X_train), columns=variables)\n",
    "X_test = pd.DataFrame(scaler.transform(X_test), columns=variables)"
   ]
  },
  {
   "cell_type": "code",
   "execution_count": 38,
   "id": "6e84267b",
   "metadata": {},
   "outputs": [
    {
     "data": {
      "text/html": [
       "<div>\n",
       "<style scoped>\n",
       "    .dataframe tbody tr th:only-of-type {\n",
       "        vertical-align: middle;\n",
       "    }\n",
       "\n",
       "    .dataframe tbody tr th {\n",
       "        vertical-align: top;\n",
       "    }\n",
       "\n",
       "    .dataframe thead th {\n",
       "        text-align: right;\n",
       "    }\n",
       "</style>\n",
       "<table border=\"1\" class=\"dataframe\">\n",
       "  <thead>\n",
       "    <tr style=\"text-align: right;\">\n",
       "      <th></th>\n",
       "      <th>age</th>\n",
       "      <th>bmi</th>\n",
       "      <th>bloodpressure</th>\n",
       "      <th>children</th>\n",
       "      <th>gender_male</th>\n",
       "      <th>diabetic_Yes</th>\n",
       "      <th>smoker_Yes</th>\n",
       "      <th>region_northwest</th>\n",
       "      <th>region_southeast</th>\n",
       "      <th>region_southwest</th>\n",
       "    </tr>\n",
       "  </thead>\n",
       "  <tbody>\n",
       "    <tr>\n",
       "      <th>0</th>\n",
       "      <td>0.523810</td>\n",
       "      <td>0.314208</td>\n",
       "      <td>0.300000</td>\n",
       "      <td>0.2</td>\n",
       "      <td>0.0</td>\n",
       "      <td>1.0</td>\n",
       "      <td>0.0</td>\n",
       "      <td>0.0</td>\n",
       "      <td>0.0</td>\n",
       "      <td>1.0</td>\n",
       "    </tr>\n",
       "    <tr>\n",
       "      <th>1</th>\n",
       "      <td>0.714286</td>\n",
       "      <td>0.721311</td>\n",
       "      <td>0.200000</td>\n",
       "      <td>1.0</td>\n",
       "      <td>1.0</td>\n",
       "      <td>1.0</td>\n",
       "      <td>0.0</td>\n",
       "      <td>0.0</td>\n",
       "      <td>0.0</td>\n",
       "      <td>1.0</td>\n",
       "    </tr>\n",
       "    <tr>\n",
       "      <th>2</th>\n",
       "      <td>0.976190</td>\n",
       "      <td>0.478142</td>\n",
       "      <td>0.283333</td>\n",
       "      <td>0.4</td>\n",
       "      <td>0.0</td>\n",
       "      <td>0.0</td>\n",
       "      <td>0.0</td>\n",
       "      <td>1.0</td>\n",
       "      <td>0.0</td>\n",
       "      <td>0.0</td>\n",
       "    </tr>\n",
       "    <tr>\n",
       "      <th>3</th>\n",
       "      <td>0.190476</td>\n",
       "      <td>0.311475</td>\n",
       "      <td>0.200000</td>\n",
       "      <td>0.6</td>\n",
       "      <td>1.0</td>\n",
       "      <td>0.0</td>\n",
       "      <td>0.0</td>\n",
       "      <td>0.0</td>\n",
       "      <td>0.0</td>\n",
       "      <td>0.0</td>\n",
       "    </tr>\n",
       "    <tr>\n",
       "      <th>4</th>\n",
       "      <td>0.928571</td>\n",
       "      <td>0.289617</td>\n",
       "      <td>0.050000</td>\n",
       "      <td>0.0</td>\n",
       "      <td>0.0</td>\n",
       "      <td>0.0</td>\n",
       "      <td>0.0</td>\n",
       "      <td>0.0</td>\n",
       "      <td>0.0</td>\n",
       "      <td>0.0</td>\n",
       "    </tr>\n",
       "    <tr>\n",
       "      <th>...</th>\n",
       "      <td>...</td>\n",
       "      <td>...</td>\n",
       "      <td>...</td>\n",
       "      <td>...</td>\n",
       "      <td>...</td>\n",
       "      <td>...</td>\n",
       "      <td>...</td>\n",
       "      <td>...</td>\n",
       "      <td>...</td>\n",
       "      <td>...</td>\n",
       "    </tr>\n",
       "    <tr>\n",
       "      <th>1067</th>\n",
       "      <td>0.476190</td>\n",
       "      <td>0.480874</td>\n",
       "      <td>0.000000</td>\n",
       "      <td>0.2</td>\n",
       "      <td>1.0</td>\n",
       "      <td>1.0</td>\n",
       "      <td>0.0</td>\n",
       "      <td>1.0</td>\n",
       "      <td>0.0</td>\n",
       "      <td>0.0</td>\n",
       "    </tr>\n",
       "    <tr>\n",
       "      <th>1068</th>\n",
       "      <td>0.357143</td>\n",
       "      <td>0.431694</td>\n",
       "      <td>0.250000</td>\n",
       "      <td>0.0</td>\n",
       "      <td>0.0</td>\n",
       "      <td>0.0</td>\n",
       "      <td>0.0</td>\n",
       "      <td>1.0</td>\n",
       "      <td>0.0</td>\n",
       "      <td>0.0</td>\n",
       "    </tr>\n",
       "    <tr>\n",
       "      <th>1069</th>\n",
       "      <td>0.380952</td>\n",
       "      <td>0.571038</td>\n",
       "      <td>0.850000</td>\n",
       "      <td>0.0</td>\n",
       "      <td>0.0</td>\n",
       "      <td>0.0</td>\n",
       "      <td>1.0</td>\n",
       "      <td>0.0</td>\n",
       "      <td>1.0</td>\n",
       "      <td>0.0</td>\n",
       "    </tr>\n",
       "    <tr>\n",
       "      <th>1070</th>\n",
       "      <td>0.857143</td>\n",
       "      <td>0.508197</td>\n",
       "      <td>0.050000</td>\n",
       "      <td>0.2</td>\n",
       "      <td>0.0</td>\n",
       "      <td>0.0</td>\n",
       "      <td>0.0</td>\n",
       "      <td>1.0</td>\n",
       "      <td>0.0</td>\n",
       "      <td>0.0</td>\n",
       "    </tr>\n",
       "    <tr>\n",
       "      <th>1071</th>\n",
       "      <td>0.904762</td>\n",
       "      <td>0.180328</td>\n",
       "      <td>0.283333</td>\n",
       "      <td>0.2</td>\n",
       "      <td>0.0</td>\n",
       "      <td>0.0</td>\n",
       "      <td>0.0</td>\n",
       "      <td>1.0</td>\n",
       "      <td>0.0</td>\n",
       "      <td>0.0</td>\n",
       "    </tr>\n",
       "  </tbody>\n",
       "</table>\n",
       "<p>1072 rows × 10 columns</p>\n",
       "</div>"
      ],
      "text/plain": [
       "           age       bmi  bloodpressure  children  gender_male  diabetic_Yes  \\\n",
       "0     0.523810  0.314208       0.300000       0.2          0.0           1.0   \n",
       "1     0.714286  0.721311       0.200000       1.0          1.0           1.0   \n",
       "2     0.976190  0.478142       0.283333       0.4          0.0           0.0   \n",
       "3     0.190476  0.311475       0.200000       0.6          1.0           0.0   \n",
       "4     0.928571  0.289617       0.050000       0.0          0.0           0.0   \n",
       "...        ...       ...            ...       ...          ...           ...   \n",
       "1067  0.476190  0.480874       0.000000       0.2          1.0           1.0   \n",
       "1068  0.357143  0.431694       0.250000       0.0          0.0           0.0   \n",
       "1069  0.380952  0.571038       0.850000       0.0          0.0           0.0   \n",
       "1070  0.857143  0.508197       0.050000       0.2          0.0           0.0   \n",
       "1071  0.904762  0.180328       0.283333       0.2          0.0           0.0   \n",
       "\n",
       "      smoker_Yes  region_northwest  region_southeast  region_southwest  \n",
       "0            0.0               0.0               0.0               1.0  \n",
       "1            0.0               0.0               0.0               1.0  \n",
       "2            0.0               1.0               0.0               0.0  \n",
       "3            0.0               0.0               0.0               0.0  \n",
       "4            0.0               0.0               0.0               0.0  \n",
       "...          ...               ...               ...               ...  \n",
       "1067         0.0               1.0               0.0               0.0  \n",
       "1068         0.0               1.0               0.0               0.0  \n",
       "1069         1.0               0.0               1.0               0.0  \n",
       "1070         0.0               1.0               0.0               0.0  \n",
       "1071         0.0               1.0               0.0               0.0  \n",
       "\n",
       "[1072 rows x 10 columns]"
      ]
     },
     "execution_count": 38,
     "metadata": {},
     "output_type": "execute_result"
    }
   ],
   "source": [
    "X_train"
   ]
  },
  {
   "cell_type": "code",
   "execution_count": 39,
   "id": "443685ed",
   "metadata": {},
   "outputs": [],
   "source": [
    "X_train.to_csv(\"../processed/xtrain.csv\", index=False)\n",
    "X_test.to_csv(\"../processed/xtest.csv\", index=False)\n",
    "\n",
    "y_train.to_csv(\"../processed/ytrain.csv\",index=False)\n",
    "y_test.to_csv(\"../processed/ytest.csv\", index=False)"
   ]
  },
  {
   "cell_type": "code",
   "execution_count": 40,
   "id": "17350caf",
   "metadata": {},
   "outputs": [
    {
     "data": {
      "text/plain": [
       "['../models/minmax_scaler.joblib']"
      ]
     },
     "execution_count": 40,
     "metadata": {},
     "output_type": "execute_result"
    }
   ],
   "source": [
    "joblib.dump(scaler, '../models/minmax_scaler.joblib')"
   ]
  },
  {
   "cell_type": "code",
   "execution_count": null,
   "id": "f66c7cb0",
   "metadata": {},
   "outputs": [],
   "source": []
  }
 ],
 "metadata": {
  "kernelspec": {
   "display_name": "insurance-claim-venv",
   "language": "python",
   "name": "insurance-claim-venv"
  },
  "language_info": {
   "codemirror_mode": {
    "name": "ipython",
    "version": 3
   },
   "file_extension": ".py",
   "mimetype": "text/x-python",
   "name": "python",
   "nbconvert_exporter": "python",
   "pygments_lexer": "ipython3",
   "version": "3.9.7"
  },
  "toc": {
   "base_numbering": 1,
   "nav_menu": {},
   "number_sections": true,
   "sideBar": true,
   "skip_h1_title": false,
   "title_cell": "Table of Contents",
   "title_sidebar": "Contents",
   "toc_cell": false,
   "toc_position": {},
   "toc_section_display": true,
   "toc_window_display": false
  }
 },
 "nbformat": 4,
 "nbformat_minor": 5
}
